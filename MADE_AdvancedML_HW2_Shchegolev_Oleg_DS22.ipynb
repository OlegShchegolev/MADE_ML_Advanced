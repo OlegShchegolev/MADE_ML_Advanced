{
 "cells": [
  {
   "cell_type": "markdown",
   "metadata": {},
   "source": [
    "# MADE ML advanced course\n",
    "\n",
    "### student: Shchegolev Oleg\n",
    "\n",
    "### group: DS-22\n",
    "\n",
    "### Homework #2, CHGK ranking system, EM-algorithm"
   ]
  },
  {
   "cell_type": "code",
   "execution_count": 1,
   "metadata": {},
   "outputs": [],
   "source": [
    "import pandas as pd\n",
    "import numpy as np\n",
    "import matplotlib.pyplot as plt\n",
    "import matplotlib\n",
    "import seaborn as sns\n",
    "import pickle"
   ]
  },
  {
   "cell_type": "markdown",
   "metadata": {},
   "source": [
    "## Data preparation"
   ]
  },
  {
   "cell_type": "code",
   "execution_count": 2,
   "metadata": {},
   "outputs": [],
   "source": [
    "results = pickle.load(open('chgk/results.pkl', 'rb'))\n",
    "tournaments = pickle.load(open('chgk/tournaments.pkl', 'rb'))\n",
    "df_players = pd.DataFrame(pd.read_pickle('chgk/players.pkl')).T.drop('id', axis=1)\n"
   ]
  },
  {
   "cell_type": "code",
   "execution_count": 131,
   "metadata": {},
   "outputs": [],
   "source": [
    "df_tour_train = pd.DataFrame([ (k, v['name'], \n",
    "       v['type']['id'], \n",
    "       v['type']['name']) for k,v in tournaments.items() if v['dateStart'][:4] == '2019' ],\n",
    "                   columns = ['id', 'name', 'type_id', 'type_name'])\n",
    "df_tour_test = pd.DataFrame([ (k, v['name'], \n",
    "       v['type']['id'], \n",
    "       v['type']['name']) for k,v in tournaments.items() if v['dateStart'][:4] == '2020' ],\n",
    "                   columns = ['id', 'name', 'type_id', 'type_name'])"
   ]
  },
  {
   "cell_type": "code",
   "execution_count": 4,
   "metadata": {},
   "outputs": [],
   "source": [
    "results_train = [(tour, res) for tour, res in results.items() if tour in df_tour_train['id'].values]\n",
    "valid_train_tours = [[(tour, item) for item in res if item.get('mask') is not None] \\\n",
    "       for tour, res in results_train] \n",
    "valid_train_tours = [item for item in valid_train_tours if item]\n",
    "\n",
    "results_test = [(tour, res) for tour, res in results.items() if tour in df_tour_test['id'].values and res]"
   ]
  },
  {
   "cell_type": "code",
   "execution_count": 67,
   "metadata": {},
   "outputs": [],
   "source": [
    "test_data = []\n",
    "for tour, teams in results_test:\n",
    "    data = []\n",
    "    for team in teams:\n",
    "        members = [member['player']['id'] for member in team['teamMembers']]\n",
    "        position = team.get('position')\n",
    "        if position is None:\n",
    "            continue\n",
    "        data.append((members, position))\n",
    "    test_data.append(data)\n",
    "    \n",
    "validation_data = []\n",
    "for tour, teams in results_train:\n",
    "    data = []\n",
    "    for team in teams:\n",
    "        members = [member['player']['id'] for member in team['teamMembers']]\n",
    "        position = team.get('position')\n",
    "        if position is None:\n",
    "            continue\n",
    "        data.append((members, position))\n",
    "    validation_data.append(data)"
   ]
  },
  {
   "cell_type": "code",
   "execution_count": 68,
   "metadata": {},
   "outputs": [],
   "source": [
    "teams_train = []\n",
    "masks_train = []\n",
    "tids = []\n",
    "train_players = set()\n",
    "n_pairs_player_question = 0\n",
    "for i, tournament in enumerate(valid_train_tours):\n",
    "    teams_train.append([])\n",
    "    masks_train.append([])\n",
    "    max_mask_size = max([len(team['mask']) for tid, team in tournament])\n",
    "    for tid, team in tournament:\n",
    "        tids.append(tid)\n",
    "        members = [member['player']['id'] for member in team['teamMembers']]\n",
    "        mask = team['mask']\n",
    "        if members and len(mask) == max_mask_size:\n",
    "            teams_train[i].append(members)\n",
    "            masks_train[i].append(mask)\n",
    "            n_pairs_player_question += len(set(members)) * len(mask)\n",
    "            for member in members:\n",
    "                train_players.add(member)"
   ]
  },
  {
   "cell_type": "code",
   "execution_count": 7,
   "metadata": {},
   "outputs": [],
   "source": [
    "one_player_data = []\n",
    "for i in range(len(teams_train)):\n",
    "    for j in range(len(masks_train[i][0])):\n",
    "        question = str(i) + '_' + str(j)\n",
    "        for k in range(len(teams_train[i])):\n",
    "            for player in teams_train[i][k]:\n",
    "                answer = masks_train[i][k][j]\n",
    "                if answer == 'X':\n",
    "                    continue\n",
    "                if answer == '?':\n",
    "                    answer = '0'\n",
    "                answer = int(answer)\n",
    "                one_player_data.append([player, question, answer])"
   ]
  },
  {
   "cell_type": "code",
   "execution_count": 8,
   "metadata": {},
   "outputs": [
    {
     "data": {
      "text/plain": [
       "17753544"
      ]
     },
     "execution_count": 8,
     "metadata": {},
     "output_type": "execute_result"
    }
   ],
   "source": [
    "len(one_player_data)"
   ]
  },
  {
   "cell_type": "code",
   "execution_count": 92,
   "metadata": {},
   "outputs": [
    {
     "data": {
      "text/plain": [
       "[[184710, '674_215', 0],\n",
       " [184711, '674_215', 0],\n",
       " [184712, '674_215', 0],\n",
       " [201800, '674_215', 0],\n",
       " [201801, '674_215', 0],\n",
       " [201802, '674_215', 0],\n",
       " [207830, '674_215', 0],\n",
       " [207831, '674_215', 0],\n",
       " [207832, '674_215', 0],\n",
       " [210786, '674_215', 0]]"
      ]
     },
     "execution_count": 92,
     "metadata": {},
     "output_type": "execute_result"
    }
   ],
   "source": [
    "one_player_data[-10:]"
   ]
  },
  {
   "cell_type": "markdown",
   "metadata": {},
   "source": [
    "### One hot encoding of pairs (player, question)"
   ]
  },
  {
   "cell_type": "code",
   "execution_count": 10,
   "metadata": {},
   "outputs": [],
   "source": [
    "np.random.seed(21)\n",
    "data_train = np.array(one_player_data)\n",
    "#np.random.shuffle(data_train)\n",
    "X_train, y_train = data_train[:, :2], data_train[:, 2].astype(bool)"
   ]
  },
  {
   "cell_type": "code",
   "execution_count": 13,
   "metadata": {},
   "outputs": [],
   "source": [
    "from sklearn.preprocessing import OneHotEncoder\n",
    "encoder = OneHotEncoder()\n",
    "X_train_one_hot = encoder.fit_transform(X_train)"
   ]
  },
  {
   "cell_type": "code",
   "execution_count": 14,
   "metadata": {},
   "outputs": [
    {
     "data": {
      "text/plain": [
       "(17753544, 90727)"
      ]
     },
     "execution_count": 14,
     "metadata": {},
     "output_type": "execute_result"
    }
   ],
   "source": [
    "X_train_one_hot.shape"
   ]
  },
  {
   "cell_type": "markdown",
   "metadata": {},
   "source": [
    "## Baseline model: logistic regression"
   ]
  },
  {
   "cell_type": "code",
   "execution_count": 15,
   "metadata": {},
   "outputs": [
    {
     "data": {
      "text/plain": [
       "LogisticRegression(random_state=21, solver='saga')"
      ]
     },
     "execution_count": 15,
     "metadata": {},
     "output_type": "execute_result"
    }
   ],
   "source": [
    "from sklearn.linear_model import LogisticRegression\n",
    "lr = LogisticRegression(solver='saga', random_state=21)\n",
    "lr.fit(X_train_one_hot, y_train)"
   ]
  },
  {
   "cell_type": "code",
   "execution_count": 16,
   "metadata": {},
   "outputs": [
    {
     "data": {
      "text/plain": [
       "0.7744280240609988"
      ]
     },
     "execution_count": 16,
     "metadata": {},
     "output_type": "execute_result"
    }
   ],
   "source": [
    "from sklearn.metrics import accuracy_score\n",
    "accuracy_score(lr.predict(X_train_one_hot), y_train)"
   ]
  },
  {
   "cell_type": "code",
   "execution_count": 17,
   "metadata": {},
   "outputs": [
    {
     "data": {
      "text/plain": [
       "0.5629277737447802"
      ]
     },
     "execution_count": 17,
     "metadata": {},
     "output_type": "execute_result"
    }
   ],
   "source": [
    "#naive prediction\n",
    "accuracy_score(y_train * 0, y_train)"
   ]
  },
  {
   "cell_type": "code",
   "execution_count": 18,
   "metadata": {},
   "outputs": [],
   "source": [
    "pls = encoder.categories_[0].astype(int)\n",
    "forces = lr.coef_.ravel()[:encoder.categories_[0].shape[0]].astype(float)\n",
    "p = np.vstack([pls, forces]).T"
   ]
  },
  {
   "cell_type": "code",
   "execution_count": 19,
   "metadata": {},
   "outputs": [],
   "source": [
    "top20 = p[p[:, 1].argsort()][::-1][:20, 0]"
   ]
  },
  {
   "cell_type": "markdown",
   "metadata": {},
   "source": [
    "## Top 20 rating of players by baseline model"
   ]
  },
  {
   "cell_type": "code",
   "execution_count": 20,
   "metadata": {},
   "outputs": [
    {
     "data": {
      "text/html": [
       "<div>\n",
       "<style scoped>\n",
       "    .dataframe tbody tr th:only-of-type {\n",
       "        vertical-align: middle;\n",
       "    }\n",
       "\n",
       "    .dataframe tbody tr th {\n",
       "        vertical-align: top;\n",
       "    }\n",
       "\n",
       "    .dataframe thead th {\n",
       "        text-align: right;\n",
       "    }\n",
       "</style>\n",
       "<table border=\"1\" class=\"dataframe\">\n",
       "  <thead>\n",
       "    <tr style=\"text-align: right;\">\n",
       "      <th></th>\n",
       "      <th>name</th>\n",
       "      <th>patronymic</th>\n",
       "      <th>surname</th>\n",
       "    </tr>\n",
       "  </thead>\n",
       "  <tbody>\n",
       "    <tr>\n",
       "      <th>27403</th>\n",
       "      <td>Максим</td>\n",
       "      <td>Михайлович</td>\n",
       "      <td>Руссо</td>\n",
       "    </tr>\n",
       "    <tr>\n",
       "      <th>4270</th>\n",
       "      <td>Александра</td>\n",
       "      <td>Владимировна</td>\n",
       "      <td>Брутер</td>\n",
       "    </tr>\n",
       "    <tr>\n",
       "      <th>28751</th>\n",
       "      <td>Иван</td>\n",
       "      <td>Николаевич</td>\n",
       "      <td>Семушин</td>\n",
       "    </tr>\n",
       "    <tr>\n",
       "      <th>27822</th>\n",
       "      <td>Михаил</td>\n",
       "      <td>Владимирович</td>\n",
       "      <td>Савченков</td>\n",
       "    </tr>\n",
       "    <tr>\n",
       "      <th>30270</th>\n",
       "      <td>Сергей</td>\n",
       "      <td>Леонидович</td>\n",
       "      <td>Спешков</td>\n",
       "    </tr>\n",
       "    <tr>\n",
       "      <th>30152</th>\n",
       "      <td>Артём</td>\n",
       "      <td>Сергеевич</td>\n",
       "      <td>Сорожкин</td>\n",
       "    </tr>\n",
       "    <tr>\n",
       "      <th>20691</th>\n",
       "      <td>Станислав</td>\n",
       "      <td>Григорьевич</td>\n",
       "      <td>Мереминский</td>\n",
       "    </tr>\n",
       "    <tr>\n",
       "      <th>18036</th>\n",
       "      <td>Михаил</td>\n",
       "      <td>Ильич</td>\n",
       "      <td>Левандовский</td>\n",
       "    </tr>\n",
       "    <tr>\n",
       "      <th>26089</th>\n",
       "      <td>Ирина</td>\n",
       "      <td>Сергеевна</td>\n",
       "      <td>Прокофьева</td>\n",
       "    </tr>\n",
       "    <tr>\n",
       "      <th>22799</th>\n",
       "      <td>Сергей</td>\n",
       "      <td>Игоревич</td>\n",
       "      <td>Николенко</td>\n",
       "    </tr>\n",
       "    <tr>\n",
       "      <th>22935</th>\n",
       "      <td>Илья</td>\n",
       "      <td>Сергеевич</td>\n",
       "      <td>Новиков</td>\n",
       "    </tr>\n",
       "    <tr>\n",
       "      <th>87637</th>\n",
       "      <td>Антон</td>\n",
       "      <td>Владимирович</td>\n",
       "      <td>Саксонов</td>\n",
       "    </tr>\n",
       "    <tr>\n",
       "      <th>18332</th>\n",
       "      <td>Александр</td>\n",
       "      <td>Витальевич</td>\n",
       "      <td>Либер</td>\n",
       "    </tr>\n",
       "    <tr>\n",
       "      <th>74001</th>\n",
       "      <td>Игорь</td>\n",
       "      <td>Викторович</td>\n",
       "      <td>Мокин</td>\n",
       "    </tr>\n",
       "    <tr>\n",
       "      <th>21698</th>\n",
       "      <td>Александр</td>\n",
       "      <td>Владимирович</td>\n",
       "      <td>Мосягин</td>\n",
       "    </tr>\n",
       "    <tr>\n",
       "      <th>7008</th>\n",
       "      <td>Алексей</td>\n",
       "      <td>Владимирович</td>\n",
       "      <td>Гилёв</td>\n",
       "    </tr>\n",
       "    <tr>\n",
       "      <th>34328</th>\n",
       "      <td>Михаил</td>\n",
       "      <td>Сергеевич</td>\n",
       "      <td>Царёв</td>\n",
       "    </tr>\n",
       "    <tr>\n",
       "      <th>13689</th>\n",
       "      <td>Дмитрий</td>\n",
       "      <td>Александрович</td>\n",
       "      <td>Карякин</td>\n",
       "    </tr>\n",
       "    <tr>\n",
       "      <th>19915</th>\n",
       "      <td>Александр</td>\n",
       "      <td>Валерьевич</td>\n",
       "      <td>Марков</td>\n",
       "    </tr>\n",
       "    <tr>\n",
       "      <th>56647</th>\n",
       "      <td>Наталья</td>\n",
       "      <td>Евгеньевна</td>\n",
       "      <td>Горелова</td>\n",
       "    </tr>\n",
       "  </tbody>\n",
       "</table>\n",
       "</div>"
      ],
      "text/plain": [
       "             name     patronymic       surname\n",
       "27403      Максим     Михайлович         Руссо\n",
       "4270   Александра   Владимировна        Брутер\n",
       "28751        Иван     Николаевич       Семушин\n",
       "27822      Михаил   Владимирович     Савченков\n",
       "30270      Сергей     Леонидович       Спешков\n",
       "30152       Артём      Сергеевич      Сорожкин\n",
       "20691   Станислав    Григорьевич   Мереминский\n",
       "18036      Михаил          Ильич  Левандовский\n",
       "26089       Ирина      Сергеевна    Прокофьева\n",
       "22799      Сергей       Игоревич     Николенко\n",
       "22935        Илья      Сергеевич       Новиков\n",
       "87637       Антон   Владимирович      Саксонов\n",
       "18332   Александр     Витальевич         Либер\n",
       "74001       Игорь     Викторович         Мокин\n",
       "21698   Александр   Владимирович       Мосягин\n",
       "7008      Алексей   Владимирович         Гилёв\n",
       "34328      Михаил      Сергеевич         Царёв\n",
       "13689     Дмитрий  Александрович       Карякин\n",
       "19915   Александр     Валерьевич        Марков\n",
       "56647     Наталья     Евгеньевна      Горелова"
      ]
     },
     "execution_count": 20,
     "metadata": {},
     "output_type": "execute_result"
    }
   ],
   "source": [
    "df_players.loc[top20.astype(int)]"
   ]
  },
  {
   "cell_type": "markdown",
   "metadata": {},
   "source": [
    "## Test of baseline model"
   ]
  },
  {
   "cell_type": "markdown",
   "metadata": {},
   "source": [
    "Firstly I tried to esmimate force of team as mean of it's players:\n",
    "$$f_t(s_i, i \\in t) = \\frac{1}{N_{i \\in t}}\\sum_{i \\in t}s_i$$"
   ]
  },
  {
   "cell_type": "code",
   "execution_count": 51,
   "metadata": {},
   "outputs": [
    {
     "name": "stdout",
     "output_type": "stream",
     "text": [
      "Ranking on train set:\n",
      "\n",
      "mean spearman correlation:  0.84\n",
      "mean kendall correlation:  0.69\n",
      "\n",
      "\n",
      "Ranking on test set:\n",
      "\n",
      "mean spearman correlation with unknown players:  0.75\n",
      "mean kendall correlation with unknown players:  0.58\n",
      "mean spearman correlation without unknown players:  0.71\n",
      "mean kendall correlation without unknown players:  0.63\n"
     ]
    }
   ],
   "source": [
    "from scipy.stats import spearmanr as spearman, kendalltau as kendall \n",
    "\n",
    "\n",
    "def get_corr_ranking_for_tour(data, p, unknown):\n",
    "    #unknown players are estimated by a mean value of 'player force'\n",
    "    unknown_player_estimation = p[:, 1].mean()\n",
    "    team_powers = []\n",
    "    real_positions = []\n",
    "    for team in data:\n",
    "        if unknown == False:\n",
    "            for member in team[0]:\n",
    "                if member not in p[:, 0]:\n",
    "                    return np.nan, np.nan\n",
    "        #team power is estimated as mean of players skills\n",
    "        power = np.mean([p[p[:,0] == member][:,1][0] if member in p[:, 0] \\\n",
    "                                                 else unknown_player_estimation \\\n",
    "                                                 for member in team[0]])\n",
    "        team_powers.append(power)\n",
    "        real_positions.append(team[1])\n",
    "    predicted_positions = np.argsort(np.array(team_powers).ravel())[::-1] + 1\n",
    "    real_positions = np.argsort(np.array(real_positions).ravel())\n",
    "    corr1 = spearman(predicted_positions, real_positions)[0]\n",
    "    corr2 = kendall(predicted_positions, real_positions)[0]\n",
    "    return corr1, corr2\n",
    "\n",
    "\n",
    "def get_val_score(val_data, p):\n",
    "    corrs = []\n",
    "    for tour in val_data:\n",
    "        corr12 = get_corr_ranking_for_tour(tour, p, True)\n",
    "        if corr12[0] is np.nan:\n",
    "            continue\n",
    "        corrs.append(corr12)\n",
    "    corrs = np.array(corrs)\n",
    "    print(f'mean spearman correlation: {corrs[:, 0].sum() / len(corrs): .2f}')\n",
    "    print(f'mean kendall correlation: {corrs[:, 1].sum() / len(corrs): .2f}')\n",
    "    \n",
    "\n",
    "def get_test_score(test_data, p):\n",
    "    corrs = []\n",
    "    for tour in test_data:\n",
    "        corr12 = get_corr_ranking_for_tour(tour, p, True)\n",
    "        if corr12[0] is np.nan:\n",
    "            continue\n",
    "        corrs.append(corr12)\n",
    "    corrs = np.array(corrs)\n",
    "    print(f'mean spearman correlation with unknown players: {corrs[:, 0].mean(): .2f}')\n",
    "    print(f'mean kendall correlation with unknown players: {corrs[:, 1].mean(): .2f}')\n",
    "    corrs = []\n",
    "    for tour in test_data:\n",
    "        corr12 = get_corr_ranking_for_tour(tour, p, False)\n",
    "        if corr12[0] is np.nan:\n",
    "            continue\n",
    "        corrs.append(corr12)\n",
    "    corrs = np.array(corrs)\n",
    "    print(f'mean spearman correlation without unknown players: {corrs[:, 0].mean(): .2f}')\n",
    "    print(f'mean kendall correlation without unknown players: {corrs[:, 1].mean(): .2f}')\n",
    "    \n",
    "    \n",
    "print('Ranking on train set:\\n')\n",
    "get_val_score(validation_data, p)\n",
    "print('\\n\\nRanking on test set:\\n')\n",
    "get_test_score(test_data, p)\n",
    "    "
   ]
  },
  {
   "cell_type": "markdown",
   "metadata": {},
   "source": [
    "In test set we have some unknown players and I calculated correlations in 2 ways:\n",
    "\n",
    "1) assigned the mean skill of players from train set to all unknown players \n",
    "\n",
    "2) dropped all tournaments with unknown players and calculated only correlations for the rest"
   ]
  },
  {
   "cell_type": "markdown",
   "metadata": {},
   "source": [
    "### Ranking based on statistical team force estimation (comparing probabilities of right answer for question of zero complexity)"
   ]
  },
  {
   "cell_type": "markdown",
   "metadata": {},
   "source": [
    "Unfortunately I couldn't come up with better idea about estimation of probability of (team gives right answer) based on probabilities of it's players. So I read about some ranking algorithms in Internet and found paper [1]. So I used estimation from there.\n",
    "\n",
    "$$p(\\exists i \\in t: z_{i} = 1) = 1 - \\prod_{i \\in t}(1 - \\sigma(\\mu + s_i))$$\n",
    "\n",
    "Sure it's very logical that probability of (team knows true answer for q) is 1 - production of probabilities that nobody in team knows true answer, but I counld't come up with it by myself(\n",
    "\n",
    "[1] - Nikolenko, S. (2015). A Probabilistic Rating System for Team Competitions with Individual Contributions. Analysis of Images, Social Networks and Texts, 3–13"
   ]
  },
  {
   "cell_type": "code",
   "execution_count": 56,
   "metadata": {},
   "outputs": [
    {
     "name": "stdout",
     "output_type": "stream",
     "text": [
      "Ranking on train set:\n",
      "\n"
     ]
    },
    {
     "name": "stderr",
     "output_type": "stream",
     "text": [
      "/home/oleg/.local/lib/python3.8/site-packages/numpy/core/fromnumeric.py:3419: RuntimeWarning: Mean of empty slice.\n",
      "  return _methods._mean(a, axis=axis, dtype=dtype,\n",
      "/home/oleg/.local/lib/python3.8/site-packages/numpy/core/_methods.py:188: RuntimeWarning: invalid value encountered in double_scalars\n",
      "  ret = ret.dtype.type(ret / rcount)\n"
     ]
    },
    {
     "name": "stdout",
     "output_type": "stream",
     "text": [
      "mean spearman correlation:  0.84\n",
      "mean kendall correlation:  0.68\n",
      "\n",
      "\n",
      "Ranking on test set:\n",
      "\n",
      "mean spearman correlation with unknown players:  0.74\n",
      "mean kendall correlation with unknown players:  0.57\n",
      "mean spearman correlation without unknown players:  0.71\n",
      "mean kendall correlation without unknown players:  0.63\n"
     ]
    }
   ],
   "source": [
    "def sigmoid(x):\n",
    "    ex = np.exp(x)\n",
    "    return ex / (1 + ex)\n",
    "\n",
    "probs = p.copy()\n",
    "probs[:, 1] = sigmoid(p[:, 1] + lr.intercept_)\n",
    "\n",
    "def get_corr_ranking_for_tour2(data, p, unknown):\n",
    "    #unknown players are estimated by a mean value of 'player force'\n",
    "    unknown_player_estimation = p[:, 1].mean()\n",
    "    team_powers = []\n",
    "    real_positions = []\n",
    "    for team in data:\n",
    "        if unknown == False:\n",
    "            for member in team[0]:\n",
    "                if member not in p[:, 0]:\n",
    "                    return np.nan, np.nan\n",
    "        #team power is estimated as mean of players skills\n",
    "        power = 1.\n",
    "        for prob in [p[p[:,0] == member][:,1][0] if member in p[:, 0] \\\n",
    "                                                 else unknown_player_estimation \\\n",
    "                                                 for member in team[0]]:\n",
    "            power *= (1 - prob)\n",
    "        power = 1. - power\n",
    "        team_powers.append(power)\n",
    "        real_positions.append(team[1])\n",
    "    predicted_positions = np.argsort(np.array(team_powers).ravel())[::-1] + 1\n",
    "    real_positions = np.argsort(np.array(real_positions).ravel())\n",
    "    corr1 = spearman(predicted_positions, real_positions)[0]\n",
    "    corr2 = kendall(predicted_positions, real_positions)[0]\n",
    "    return corr1, corr2\n",
    "\n",
    "\n",
    "def get_val_score2(val_data, p):\n",
    "    corrs = []\n",
    "    for tour in val_data:\n",
    "        corr12 = get_corr_ranking_for_tour2(tour, p, True)\n",
    "        if corr12[0] is np.nan:\n",
    "            continue\n",
    "        corrs.append(corr12)\n",
    "    corrs = np.array(corrs)\n",
    "    print(f'mean spearman correlation: {corrs[:, 0].sum() / len(corrs): .2f}')\n",
    "    print(f'mean kendall correlation: {corrs[:, 1].sum() / len(corrs): .2f}')\n",
    "    \n",
    "\n",
    "def get_test_score2(test_data, p):\n",
    "    corrs = []\n",
    "    for tour in test_data:\n",
    "        corr12 = get_corr_ranking_for_tour2(tour, p, True)\n",
    "        if corr12[0] is np.nan:\n",
    "            continue\n",
    "        corrs.append(corr12)\n",
    "    corrs = np.array(corrs)\n",
    "    print(f'mean spearman correlation with unknown players: {corrs[:, 0].mean(): .2f}')\n",
    "    print(f'mean kendall correlation with unknown players: {corrs[:, 1].mean(): .2f}')\n",
    "    corrs = []\n",
    "    for tour in test_data:\n",
    "        corr12 = get_corr_ranking_for_tour2(tour, p, False)\n",
    "        if corr12[0] is np.nan:\n",
    "            continue\n",
    "        corrs.append(corr12)\n",
    "    corrs = np.array(corrs)\n",
    "    print(f'mean spearman correlation without unknown players: {corrs[:, 0].mean(): .2f}')\n",
    "    print(f'mean kendall correlation without unknown players: {corrs[:, 1].mean(): .2f}')\n",
    "    \n",
    "print('Ranking on train set:\\n')\n",
    "get_val_score(validation_data, probs)\n",
    "print('\\n\\nRanking on test set:\\n')\n",
    "get_test_score(test_data, probs)\n"
   ]
  },
  {
   "cell_type": "markdown",
   "metadata": {},
   "source": [
    "As one can see ranking correlations are almost equal for both techniques for the baseline algorithm, but the big difference exists for em-algorithm. I found that using the first method (mean value of team players) of ranking I get correlation decrease step by step of em. Using the second method correlation increases a little bit.  "
   ]
  },
  {
   "cell_type": "markdown",
   "metadata": {},
   "source": [
    "## EM Algrorithm"
   ]
  },
  {
   "cell_type": "markdown",
   "metadata": {},
   "source": [
    "EM-algorithm was also taken from [1]\n",
    "\n",
    "Let us assume that we have latent variable: $z_{iq}$ that is if player i knows answer for question q.\n",
    "So at E-step we will estimate $z_{iq}$ and at M-step learn player force and question complexity. Baseline model weights are used as a start point\n",
    "\n",
    "As it is written in the paper we assume that $z_{iq}$ is equal to 0 if team gave wrong answer and it is equal probability of i player to know answer for question q divided to probability that at least one player in team knows right answer\n",
    "\n",
    "[1] Nikolenko, S. (2015). A Probabilistic Rating System for Team Competitions with Individual Contributions. Analysis of Images, Social Networks and Texts, 3–13"
   ]
  },
  {
   "cell_type": "markdown",
   "metadata": {},
   "source": [
    "### E-step, M-step"
   ]
  },
  {
   "cell_type": "markdown",
   "metadata": {},
   "source": [
    "### data preparation for denominator calculation"
   ]
  },
  {
   "cell_type": "code",
   "execution_count": 22,
   "metadata": {},
   "outputs": [],
   "source": [
    "df_train_pls = pd.DataFrame(np.arange(pls.shape[0]), index=pls)"
   ]
  },
  {
   "cell_type": "code",
   "execution_count": 23,
   "metadata": {},
   "outputs": [
    {
     "name": "stdout",
     "output_type": "stream",
     "text": [
      "CPU times: user 4 µs, sys: 0 ns, total: 4 µs\n",
      "Wall time: 6.68 µs\n"
     ]
    }
   ],
   "source": [
    "#from tqdm.notebook import tqdm, tnrange\n",
    "team_ids = []\n",
    "teams_pls = []\n",
    "for tour in teams_train:\n",
    "    for t in tour:\n",
    "        team = df_train_pls.loc[t].values.ravel()\n",
    "        teams_pls.append(team)\n",
    "\n",
    "for i in range(len(teams_train)):\n",
    "    for j in range(len(masks_train[i][0])):\n",
    "        question = str(i) + '_' + str(j)\n",
    "        for k in range(len(teams_train[i])):\n",
    "            for player in teams_train[i][k]:\n",
    "                answer = masks_train[i][k][j]\n",
    "                if answer == 'X':\n",
    "                    continue\n",
    "                team_ids.append(i)\n",
    "team_ids = np.array(team_ids)"
   ]
  },
  {
   "cell_type": "code",
   "execution_count": 24,
   "metadata": {},
   "outputs": [],
   "source": [
    "def get_team_prob(sigmoid, team_ids, team_pls):\n",
    "    probs = np.ones(team_ids.shape[0])\n",
    "    i = 0\n",
    "    while (i < len(team_ids)):\n",
    "        team = team_pls[team_ids[i]]\n",
    "        l = len(team)\n",
    "        team_probs = -(sigmoid[i:i + l] - 1.)\n",
    "        probs[i: i + l] -= np.prod(team_probs)\n",
    "        i += l\n",
    "    return probs\n"
   ]
  },
  {
   "cell_type": "markdown",
   "metadata": {},
   "source": [
    "### Implementation of EM-algorithm"
   ]
  },
  {
   "cell_type": "code",
   "execution_count": 59,
   "metadata": {},
   "outputs": [],
   "source": [
    "from sklearn.linear_model import LinearRegression\n",
    "\n",
    "def sigmoid(x):\n",
    "    ex = np.exp(x)\n",
    "    return ex / (1 + ex)\n",
    "\n",
    "def e_step(z):\n",
    "    teams_probs = get_team_prob(z, team_ids, teams_pls)\n",
    "    teams_probs[z == 0.] = 1.\n",
    "    return z / teams_probs\n",
    "        \n",
    "def m_step(X, z):\n",
    "    z = np.clip(z, 1e-8, 1 - 1e-8)\n",
    "    inv_sig_z = np.log(z / (1 - z))\n",
    "    linr = LinearRegression()\n",
    "    linr.fit(X, inv_sig_z)\n",
    "    return linr\n",
    "\n",
    "def em_algo_with_test(n_steps, X, y, baseline, test_data, players):\n",
    "    z0 = baseline.predict_proba(X)[:, 1] * y\n",
    "    for i in range(1, n_steps + 1):\n",
    "        z = e_step(z0)\n",
    "        step_model = m_step(X, z)\n",
    "        forces = step_model.coef_.ravel()[:players.shape[0]].astype(float)\n",
    "        p = np.vstack([players, forces]).T\n",
    "        probs = p.copy()\n",
    "        probs[:, 1] = sigmoid(p[:, 1] + lr.intercept_)\n",
    "        print(f'-------------step {i}---------------\\n')\n",
    "        print('Ranking on train set:\\n')\n",
    "        get_val_score2(validation_data, probs)\n",
    "        print('\\n\\nRanking on test set:\\n')\n",
    "        get_test_score2(test_data, probs)\n",
    "        print()\n",
    "        z0 = sigmoid(step_model.predict(X)) * y\n",
    "    return step_model"
   ]
  },
  {
   "cell_type": "markdown",
   "metadata": {},
   "source": [
    "### learning few steps"
   ]
  },
  {
   "cell_type": "code",
   "execution_count": 60,
   "metadata": {},
   "outputs": [
    {
     "name": "stdout",
     "output_type": "stream",
     "text": [
      "-------------step 1---------------\n",
      "\n",
      "Ranking on train set:\n",
      "\n",
      "mean spearman correlation:  0.83\n",
      "mean kendall correlation:  0.67\n",
      "\n",
      "\n",
      "Ranking on test set:\n",
      "\n",
      "mean spearman correlation with unknown players:  0.75\n",
      "mean kendall correlation with unknown players:  0.58\n",
      "mean spearman correlation without unknown players:  0.70\n",
      "mean kendall correlation without unknown players:  0.56\n",
      "\n",
      "-------------step 2---------------\n",
      "\n",
      "Ranking on train set:\n",
      "\n",
      "mean spearman correlation:  0.84\n",
      "mean kendall correlation:  0.68\n",
      "\n",
      "\n",
      "Ranking on test set:\n",
      "\n",
      "mean spearman correlation with unknown players:  0.75\n",
      "mean kendall correlation with unknown players:  0.59\n",
      "mean spearman correlation without unknown players:  0.72\n",
      "mean kendall correlation without unknown players:  0.59\n",
      "\n",
      "-------------step 3---------------\n",
      "\n",
      "Ranking on train set:\n",
      "\n",
      "mean spearman correlation:  0.84\n",
      "mean kendall correlation:  0.68\n",
      "\n",
      "\n",
      "Ranking on test set:\n",
      "\n",
      "mean spearman correlation with unknown players:  0.75\n",
      "mean kendall correlation with unknown players:  0.59\n",
      "mean spearman correlation without unknown players:  0.72\n",
      "mean kendall correlation without unknown players:  0.59\n",
      "\n",
      "-------------step 4---------------\n",
      "\n",
      "Ranking on train set:\n",
      "\n",
      "mean spearman correlation:  0.84\n",
      "mean kendall correlation:  0.69\n",
      "\n",
      "\n",
      "Ranking on test set:\n",
      "\n",
      "mean spearman correlation with unknown players:  0.75\n",
      "mean kendall correlation with unknown players:  0.59\n",
      "mean spearman correlation without unknown players:  0.73\n",
      "mean kendall correlation without unknown players:  0.59\n",
      "\n",
      "-------------step 5---------------\n",
      "\n",
      "Ranking on train set:\n",
      "\n",
      "mean spearman correlation:  0.84\n",
      "mean kendall correlation:  0.69\n",
      "\n",
      "\n",
      "Ranking on test set:\n",
      "\n",
      "mean spearman correlation with unknown players:  0.75\n",
      "mean kendall correlation with unknown players:  0.59\n",
      "mean spearman correlation without unknown players:  0.73\n",
      "mean kendall correlation without unknown players:  0.59\n",
      "\n"
     ]
    }
   ],
   "source": [
    "final_model = em_algo_with_test(5, X_train_one_hot, y_train, lr, test_data, pls)"
   ]
  },
  {
   "cell_type": "markdown",
   "metadata": {},
   "source": [
    "## Tournament ranking on question complexity"
   ]
  },
  {
   "cell_type": "markdown",
   "metadata": {},
   "source": [
    "Ranking of tournaments by the mean value of question complexity"
   ]
  },
  {
   "cell_type": "code",
   "execution_count": 134,
   "metadata": {},
   "outputs": [
    {
     "data": {
      "text/html": [
       "<div>\n",
       "<style scoped>\n",
       "    .dataframe tbody tr th:only-of-type {\n",
       "        vertical-align: middle;\n",
       "    }\n",
       "\n",
       "    .dataframe tbody tr th {\n",
       "        vertical-align: top;\n",
       "    }\n",
       "\n",
       "    .dataframe thead th {\n",
       "        text-align: right;\n",
       "    }\n",
       "</style>\n",
       "<table border=\"1\" class=\"dataframe\">\n",
       "  <thead>\n",
       "    <tr style=\"text-align: right;\">\n",
       "      <th></th>\n",
       "      <th>c</th>\n",
       "      <th>type_id</th>\n",
       "      <th>name</th>\n",
       "    </tr>\n",
       "    <tr>\n",
       "      <th>id</th>\n",
       "      <th></th>\n",
       "      <th></th>\n",
       "      <th></th>\n",
       "    </tr>\n",
       "  </thead>\n",
       "  <tbody>\n",
       "    <tr>\n",
       "      <th>6149</th>\n",
       "      <td>-9.693906</td>\n",
       "      <td>2.0</td>\n",
       "      <td>Чемпионат Санкт-Петербурга. Первая лига</td>\n",
       "    </tr>\n",
       "    <tr>\n",
       "      <th>5928</th>\n",
       "      <td>-6.642565</td>\n",
       "      <td>3.0</td>\n",
       "      <td>Угрюмый Ёрш</td>\n",
       "    </tr>\n",
       "    <tr>\n",
       "      <th>5684</th>\n",
       "      <td>-6.036465</td>\n",
       "      <td>3.0</td>\n",
       "      <td>Синхрон высшей лиги Москвы</td>\n",
       "    </tr>\n",
       "    <tr>\n",
       "      <th>6101</th>\n",
       "      <td>-5.937266</td>\n",
       "      <td>3.0</td>\n",
       "      <td>Воображаемый музей</td>\n",
       "    </tr>\n",
       "    <tr>\n",
       "      <th>5159</th>\n",
       "      <td>-5.818303</td>\n",
       "      <td>3.0</td>\n",
       "      <td>Первенство правого полушария</td>\n",
       "    </tr>\n",
       "    <tr>\n",
       "      <th>5941</th>\n",
       "      <td>-5.714677</td>\n",
       "      <td>2.0</td>\n",
       "      <td>Чемпионат Мира. Этап 2. Группа А</td>\n",
       "    </tr>\n",
       "    <tr>\n",
       "      <th>5942</th>\n",
       "      <td>-5.525652</td>\n",
       "      <td>2.0</td>\n",
       "      <td>Чемпионат Мира. Этап 2. Группа В</td>\n",
       "    </tr>\n",
       "    <tr>\n",
       "      <th>5693</th>\n",
       "      <td>-5.389408</td>\n",
       "      <td>3.0</td>\n",
       "      <td>Знание – Сила VI</td>\n",
       "    </tr>\n",
       "    <tr>\n",
       "      <th>5083</th>\n",
       "      <td>-5.327694</td>\n",
       "      <td>3.0</td>\n",
       "      <td>Ускользающая сова</td>\n",
       "    </tr>\n",
       "    <tr>\n",
       "      <th>5587</th>\n",
       "      <td>-5.291662</td>\n",
       "      <td>3.0</td>\n",
       "      <td>Записки охотника</td>\n",
       "    </tr>\n",
       "    <tr>\n",
       "      <th>5930</th>\n",
       "      <td>-5.240178</td>\n",
       "      <td>3.0</td>\n",
       "      <td>Зеркало мемориала памяти Михаила Басса</td>\n",
       "    </tr>\n",
       "    <tr>\n",
       "      <th>5946</th>\n",
       "      <td>-5.223571</td>\n",
       "      <td>2.0</td>\n",
       "      <td>Чемпионат Мира. Этап 3. Группа В</td>\n",
       "    </tr>\n",
       "    <tr>\n",
       "      <th>5465</th>\n",
       "      <td>-5.196451</td>\n",
       "      <td>2.0</td>\n",
       "      <td>Чемпионат России</td>\n",
       "    </tr>\n",
       "    <tr>\n",
       "      <th>5943</th>\n",
       "      <td>-4.951785</td>\n",
       "      <td>2.0</td>\n",
       "      <td>Чемпионат Мира. Этап 2 Группа С</td>\n",
       "    </tr>\n",
       "    <tr>\n",
       "      <th>5515</th>\n",
       "      <td>-4.917101</td>\n",
       "      <td>2.0</td>\n",
       "      <td>Чемпионат Минска. Лига А. Тур четвёртый</td>\n",
       "    </tr>\n",
       "    <tr>\n",
       "      <th>5940</th>\n",
       "      <td>-4.915810</td>\n",
       "      <td>2.0</td>\n",
       "      <td>Чемпионат Мира. Этап 1. Группа С</td>\n",
       "    </tr>\n",
       "    <tr>\n",
       "      <th>5950</th>\n",
       "      <td>-4.857060</td>\n",
       "      <td>2.0</td>\n",
       "      <td>Чемпионат Мира. Финал. Группа С</td>\n",
       "    </tr>\n",
       "    <tr>\n",
       "      <th>5303</th>\n",
       "      <td>-4.832941</td>\n",
       "      <td>2.0</td>\n",
       "      <td>Мемориал Дмитрия Коноваленко</td>\n",
       "    </tr>\n",
       "    <tr>\n",
       "      <th>5948</th>\n",
       "      <td>-4.792820</td>\n",
       "      <td>2.0</td>\n",
       "      <td>Чемпионат Мира. Финал. Группа А</td>\n",
       "    </tr>\n",
       "    <tr>\n",
       "      <th>5996</th>\n",
       "      <td>-4.788111</td>\n",
       "      <td>3.0</td>\n",
       "      <td>Тихий Донец: омут первый</td>\n",
       "    </tr>\n",
       "  </tbody>\n",
       "</table>\n",
       "</div>"
      ],
      "text/plain": [
       "             c  type_id                                     name\n",
       "id                                                              \n",
       "6149 -9.693906      2.0  Чемпионат Санкт-Петербурга. Первая лига\n",
       "5928 -6.642565      3.0                              Угрюмый Ёрш\n",
       "5684 -6.036465      3.0               Синхрон высшей лиги Москвы\n",
       "6101 -5.937266      3.0                       Воображаемый музей\n",
       "5159 -5.818303      3.0             Первенство правого полушария\n",
       "5941 -5.714677      2.0         Чемпионат Мира. Этап 2. Группа А\n",
       "5942 -5.525652      2.0         Чемпионат Мира. Этап 2. Группа В\n",
       "5693 -5.389408      3.0                         Знание – Сила VI\n",
       "5083 -5.327694      3.0                        Ускользающая сова\n",
       "5587 -5.291662      3.0                         Записки охотника\n",
       "5930 -5.240178      3.0   Зеркало мемориала памяти Михаила Басса\n",
       "5946 -5.223571      2.0         Чемпионат Мира. Этап 3. Группа В\n",
       "5465 -5.196451      2.0                         Чемпионат России\n",
       "5943 -4.951785      2.0          Чемпионат Мира. Этап 2 Группа С\n",
       "5515 -4.917101      2.0  Чемпионат Минска. Лига А. Тур четвёртый\n",
       "5940 -4.915810      2.0         Чемпионат Мира. Этап 1. Группа С\n",
       "5950 -4.857060      2.0          Чемпионат Мира. Финал. Группа С\n",
       "5303 -4.832941      2.0             Мемориал Дмитрия Коноваленко\n",
       "5948 -4.792820      2.0          Чемпионат Мира. Финал. Группа А\n",
       "5996 -4.788111      3.0                 Тихий Донец: омут первый"
      ]
     },
     "execution_count": 134,
     "metadata": {},
     "output_type": "execute_result"
    }
   ],
   "source": [
    "quests = np.unique(X_train[:, 1])\n",
    "compls = final_model.coef_.ravel()[encoder.categories_[0].shape[0]:].astype(float)\n",
    "q = np.vstack([quests, compls]).T\n",
    "\n",
    "tids = np.unique(np.array(tids))\n",
    "\n",
    "df_q = pd.DataFrame(q, columns=['qid', 'c'])\n",
    "df_q['id'] = df_q['qid'].apply(lambda x: tids[int(x.split('_')[0])])\n",
    "df_q['q_num'] = df_q['qid'].apply(lambda x: int(x.split('_')[1]))\n",
    "\n",
    "df_tour_train.index = df_tour_train.id\n",
    "\n",
    "df_q = df_q.join(df_tour_train.drop('id', axis=1), on='id')\n",
    "df_q.index = df_q['qid']\n",
    "df_q.drop('qid', axis=1, inplace=True)\n",
    "df_q['c'] = df_q['c'].astype(float)\n",
    "\n",
    "rating = df_q.groupby(['id']).mean().sort_values(by='c').drop(['q_num'], axis=1)\n",
    "rating['name'] = df_tour_train.loc[rating.index]['name']\n",
    "rating[:20]"
   ]
  },
  {
   "cell_type": "markdown",
   "metadata": {},
   "source": [
    "It seems more or less true, most of tournaments are major, there is World Championship in top 20 (finals are at 17 and 19 places) but not at first places..."
   ]
  },
  {
   "cell_type": "markdown",
   "metadata": {},
   "source": [
    "## Top questions"
   ]
  },
  {
   "cell_type": "markdown",
   "metadata": {},
   "source": [
    "ranking questions by complexity"
   ]
  },
  {
   "cell_type": "code",
   "execution_count": 135,
   "metadata": {},
   "outputs": [
    {
     "data": {
      "text/html": [
       "<div>\n",
       "<style scoped>\n",
       "    .dataframe tbody tr th:only-of-type {\n",
       "        vertical-align: middle;\n",
       "    }\n",
       "\n",
       "    .dataframe tbody tr th {\n",
       "        vertical-align: top;\n",
       "    }\n",
       "\n",
       "    .dataframe thead th {\n",
       "        text-align: right;\n",
       "    }\n",
       "</style>\n",
       "<table border=\"1\" class=\"dataframe\">\n",
       "  <thead>\n",
       "    <tr style=\"text-align: right;\">\n",
       "      <th></th>\n",
       "      <th>c</th>\n",
       "      <th>id</th>\n",
       "      <th>q_num</th>\n",
       "      <th>name</th>\n",
       "      <th>type_id</th>\n",
       "      <th>type_name</th>\n",
       "    </tr>\n",
       "    <tr>\n",
       "      <th>qid</th>\n",
       "      <th></th>\n",
       "      <th></th>\n",
       "      <th></th>\n",
       "      <th></th>\n",
       "      <th></th>\n",
       "      <th></th>\n",
       "    </tr>\n",
       "  </thead>\n",
       "  <tbody>\n",
       "    <tr>\n",
       "      <th>558_14</th>\n",
       "      <td>-14.526322</td>\n",
       "      <td>5948</td>\n",
       "      <td>14</td>\n",
       "      <td>Чемпионат Мира. Финал. Группа А</td>\n",
       "      <td>2</td>\n",
       "      <td>Обычный</td>\n",
       "    </tr>\n",
       "    <tr>\n",
       "      <th>555_14</th>\n",
       "      <td>-14.318883</td>\n",
       "      <td>5945</td>\n",
       "      <td>14</td>\n",
       "      <td>Чемпионат Мира. Этап 3. Группа А</td>\n",
       "      <td>2</td>\n",
       "      <td>Обычный</td>\n",
       "    </tr>\n",
       "    <tr>\n",
       "      <th>551_13</th>\n",
       "      <td>-14.313498</td>\n",
       "      <td>5941</td>\n",
       "      <td>13</td>\n",
       "      <td>Чемпионат Мира. Этап 2. Группа А</td>\n",
       "      <td>2</td>\n",
       "      <td>Обычный</td>\n",
       "    </tr>\n",
       "    <tr>\n",
       "      <th>548_4</th>\n",
       "      <td>-13.380086</td>\n",
       "      <td>5938</td>\n",
       "      <td>4</td>\n",
       "      <td>Чемпионат Мира. Этап 1. Группа А</td>\n",
       "      <td>2</td>\n",
       "      <td>Обычный</td>\n",
       "    </tr>\n",
       "    <tr>\n",
       "      <th>551_6</th>\n",
       "      <td>-13.211572</td>\n",
       "      <td>5941</td>\n",
       "      <td>6</td>\n",
       "      <td>Чемпионат Мира. Этап 2. Группа А</td>\n",
       "      <td>2</td>\n",
       "      <td>Обычный</td>\n",
       "    </tr>\n",
       "    <tr>\n",
       "      <th>555_23</th>\n",
       "      <td>-13.051173</td>\n",
       "      <td>5945</td>\n",
       "      <td>23</td>\n",
       "      <td>Чемпионат Мира. Этап 3. Группа А</td>\n",
       "      <td>2</td>\n",
       "      <td>Обычный</td>\n",
       "    </tr>\n",
       "    <tr>\n",
       "      <th>179_39</th>\n",
       "      <td>-12.287751</td>\n",
       "      <td>5465</td>\n",
       "      <td>39</td>\n",
       "      <td>Чемпионат России</td>\n",
       "      <td>2</td>\n",
       "      <td>Обычный</td>\n",
       "    </tr>\n",
       "    <tr>\n",
       "      <th>179_67</th>\n",
       "      <td>-12.287751</td>\n",
       "      <td>5465</td>\n",
       "      <td>67</td>\n",
       "      <td>Чемпионат России</td>\n",
       "      <td>2</td>\n",
       "      <td>Обычный</td>\n",
       "    </tr>\n",
       "    <tr>\n",
       "      <th>555_9</th>\n",
       "      <td>-12.260129</td>\n",
       "      <td>5945</td>\n",
       "      <td>9</td>\n",
       "      <td>Чемпионат Мира. Этап 3. Группа А</td>\n",
       "      <td>2</td>\n",
       "      <td>Обычный</td>\n",
       "    </tr>\n",
       "    <tr>\n",
       "      <th>558_23</th>\n",
       "      <td>-12.231291</td>\n",
       "      <td>5948</td>\n",
       "      <td>23</td>\n",
       "      <td>Чемпионат Мира. Финал. Группа А</td>\n",
       "      <td>2</td>\n",
       "      <td>Обычный</td>\n",
       "    </tr>\n",
       "  </tbody>\n",
       "</table>\n",
       "</div>"
      ],
      "text/plain": [
       "                c    id  q_num                              name  type_id  \\\n",
       "qid                                                                         \n",
       "558_14 -14.526322  5948     14   Чемпионат Мира. Финал. Группа А        2   \n",
       "555_14 -14.318883  5945     14  Чемпионат Мира. Этап 3. Группа А        2   \n",
       "551_13 -14.313498  5941     13  Чемпионат Мира. Этап 2. Группа А        2   \n",
       "548_4  -13.380086  5938      4  Чемпионат Мира. Этап 1. Группа А        2   \n",
       "551_6  -13.211572  5941      6  Чемпионат Мира. Этап 2. Группа А        2   \n",
       "555_23 -13.051173  5945     23  Чемпионат Мира. Этап 3. Группа А        2   \n",
       "179_39 -12.287751  5465     39                  Чемпионат России        2   \n",
       "179_67 -12.287751  5465     67                  Чемпионат России        2   \n",
       "555_9  -12.260129  5945      9  Чемпионат Мира. Этап 3. Группа А        2   \n",
       "558_23 -12.231291  5948     23   Чемпионат Мира. Финал. Группа А        2   \n",
       "\n",
       "       type_name  \n",
       "qid               \n",
       "558_14   Обычный  \n",
       "555_14   Обычный  \n",
       "551_13   Обычный  \n",
       "548_4    Обычный  \n",
       "551_6    Обычный  \n",
       "555_23   Обычный  \n",
       "179_39   Обычный  \n",
       "179_67   Обычный  \n",
       "555_9    Обычный  \n",
       "558_23   Обычный  "
      ]
     },
     "execution_count": 135,
     "metadata": {},
     "output_type": "execute_result"
    }
   ],
   "source": [
    "df_q.sort_values(by='c')[:10]"
   ]
  },
  {
   "cell_type": "markdown",
   "metadata": {},
   "source": [
    "The situation here is even better: all first places are taken by World Championship"
   ]
  }
 ],
 "metadata": {
  "kernelspec": {
   "display_name": "Python 3",
   "language": "python",
   "name": "python3"
  },
  "language_info": {
   "codemirror_mode": {
    "name": "ipython",
    "version": 3
   },
   "file_extension": ".py",
   "mimetype": "text/x-python",
   "name": "python",
   "nbconvert_exporter": "python",
   "pygments_lexer": "ipython3",
   "version": "3.8.3"
  }
 },
 "nbformat": 4,
 "nbformat_minor": 5
}
