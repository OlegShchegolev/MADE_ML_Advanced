{
 "cells": [
  {
   "cell_type": "markdown",
   "metadata": {},
   "source": [
    "### Course: MADE ML Advanced\n",
    "### Group: DS-22\n",
    "### Student: Shchegolev Oleg\n",
    "### HW3 \"Dancing men\""
   ]
  },
  {
   "cell_type": "code",
   "execution_count": 1,
   "metadata": {},
   "outputs": [],
   "source": [
    "import numpy as np\n",
    "import re"
   ]
  },
  {
   "cell_type": "markdown",
   "metadata": {},
   "source": [
    "### Read text corpus for learning"
   ]
  },
  {
   "cell_type": "code",
   "execution_count": 2,
   "metadata": {},
   "outputs": [
    {
     "name": "stdout",
     "output_type": "stream",
     "text": [
      " chimed in the count who always solved questions that seemed to him perplexing by deciding that everything was splendid just fancy wants to be an hussar what s one to do my dear what a charming creature your younger girl is said the visitor a little volcano yes a regular volcano said the count takes after me and what a voice she has though she s my daughter i tell the truth when i say she ll be a singer a second salomoni we have engaged an italian to give her lessons isn t she too young i have h\n"
     ]
    }
   ],
   "source": [
    "def get_text_corpus(filename, pattern):\n",
    "    with open(filename, 'r') as fin:\n",
    "        text = ' '.join(fin.readlines())\n",
    "    text = ' '.join([w.lower() for w in re.findall(pattern, text, flags=re.IGNORECASE)])\n",
    "    return text\n",
    "    \n",
    "text = get_text_corpus('texts/WarAndPeaceEng.txt', '[a-z]+')\n",
    "alphabet = np.unique(np.array(list(text)))\n",
    "print(text[100003:100503])"
   ]
  },
  {
   "cell_type": "markdown",
   "metadata": {},
   "source": [
    "### Make encrypted test text"
   ]
  },
  {
   "cell_type": "code",
   "execution_count": 3,
   "metadata": {},
   "outputs": [
    {
     "name": "stdout",
     "output_type": "stream",
     "text": [
      "original test text:\n",
      "\n",
      " ers chimed in the count who always solved questions that seemed to him perplexing by deciding that everything was splendid just fancy wants to be an hussar what s one to do my dear what a charming creature your younger girl is said the visitor a little volcano yes a regular volcano said the count takes after me and what a voice she has though she s my daughter i tell the truth when i say she ll be a singer a second salomoni we have engaged an italian to give her lessons isn t she too young i hav\n",
      "\n",
      "mapping:\n",
      "\n",
      " {' ': 'Ѡ', 'a': 'Ћ', 'b': 'ᚿ', 'c': 'ཙ', 'd': 'Ɲ', 'e': '┄', 'f': 'ލ', 'g': 'ᵑ', 'h': 'ồ', 'i': 'Ų', 'j': '\\u0fcd', 'k': '۩', 'l': 'ቯ', 'm': 'ʎ', 'n': 'ଲ', 'o': '്', 'p': 'ধ', 'q': '\\u0bdd', 'r': '\\u0e60', 's': 'ᖮ', 't': 'ፊ', 'u': '\\u13fe', 'v': 'Ǿ', 'w': 'ߜ', 'x': 'ᤎ', 'y': 'Ꮰ'}\n",
      "\n",
      "encrypted test text:\n",
      "\n",
      " ┄๠ᖮѠཙồŲʎ┄ƝѠŲଲѠፊồ┄Ѡཙ്᏾ଲፊѠߜồ്ѠЋቯߜЋᏠᖮѠᖮ്ቯǾ┄ƝѠ௝᏾┄ᖮፊŲ്ଲᖮѠፊồЋፊѠᖮ┄┄ʎ┄ƝѠፊ്ѠồŲʎѠধ┄๠ধቯ┄ᤎŲଲᵑѠᚿᏠѠƝ┄ཙŲƝŲଲᵑѠፊồЋፊѠ┄Ǿ┄๠ᏠፊồŲଲᵑѠߜЋᖮѠᖮধቯ┄ଲƝŲƝѠ࿍᏾ᖮፊѠލЋଲཙᏠѠߜЋଲፊᖮѠፊ്Ѡᚿ┄ѠЋଲѠồ᏾ᖮᖮЋ๠ѠߜồЋፊѠᖮѠ്ଲ┄Ѡፊ്ѠƝ്ѠʎᏠѠƝ┄Ћ๠ѠߜồЋፊѠЋѠཙồЋ๠ʎŲଲᵑѠཙ๠┄Ћፊ᏾๠┄ѠᏠ്᏾๠ѠᏠ്᏾ଲᵑ┄๠ѠᵑŲ๠ቯѠŲᖮѠᖮЋŲƝѠፊồ┄ѠǾŲᖮŲፊ്๠ѠЋѠቯŲፊፊቯ┄ѠǾ്ቯཙЋଲ്ѠᏠ┄ᖮѠЋѠ๠┄ᵑ᏾ቯЋ๠ѠǾ്ቯཙЋଲ്ѠᖮЋŲƝѠፊồ┄Ѡཙ്᏾ଲፊѠፊЋ۩┄ᖮѠЋލፊ┄๠Ѡʎ┄ѠЋଲƝѠߜồЋፊѠЋѠǾ്Ųཙ┄Ѡᖮồ┄ѠồЋᖮѠፊồ്᏾ᵑồѠᖮồ┄ѠᖮѠʎᏠѠƝЋ᏾ᵑồፊ┄๠ѠŲѠፊ┄ቯቯѠፊồ┄Ѡፊ๠᏾ፊồѠߜồ┄ଲѠŲѠᖮЋᏠѠᖮồ┄ѠቯቯѠᚿ┄ѠЋѠᖮŲଲᵑ┄๠ѠЋѠᖮ┄ཙ്ଲƝѠᖮЋቯ്ʎ്ଲŲѠߜ┄ѠồЋǾ┄Ѡ┄ଲᵑЋᵑ┄ƝѠЋଲѠŲፊЋቯŲЋଲѠፊ്ѠᵑŲǾ┄Ѡồ┄๠Ѡቯ┄ᖮᖮ്ଲᖮѠŲᖮଲѠፊѠᖮồ┄Ѡፊ്്ѠᏠ്᏾ଲᵑѠŲѠồЋǾ\n"
     ]
    }
   ],
   "source": [
    "def gen_randomly_decoded_text(original, verbose=False):\n",
    "    original_chars = np.unique(np.array(list(original)))\n",
    "    uni_chars = [chr(i) for i in np.random.randint(0, 10000, len(original_chars))]\n",
    "    mapping = dict(zip(original_chars, uni_chars))\n",
    "    result = ''.join([mapping[c] for c in original])\n",
    "    if verbose:\n",
    "        print('original test text:\\n\\n', original)\n",
    "        print('\\nmapping:\\n\\n', mapping)\n",
    "        print('\\nencrypted test text:\\n\\n', result)\n",
    "    return mapping, result\n",
    "\n",
    "size = 500\n",
    "start = 100000\n",
    "test1 = text[start:start + size]\n",
    "mapping, encrypted1 = gen_randomly_decoded_text(test1, True)"
   ]
  },
  {
   "cell_type": "markdown",
   "metadata": {},
   "source": [
    "### Calculate frequences and decode test text using frequencies of single letters"
   ]
  },
  {
   "cell_type": "code",
   "execution_count": 4,
   "metadata": {},
   "outputs": [
    {
     "name": "stdout",
     "output_type": "stream",
     "text": [
      "\n",
      "decode mapping:\n",
      "\n",
      " {'Ѡ': ' ', '┄': 'e', 'Ћ': 't', 'ፊ': 'a', 'ᖮ': 'o', 'ồ': 'n', 'Ų': 'i', 'ଲ': 'h', '്': 's', '\\u0e60': 'r', 'ቯ': 'd', 'Ɲ': 'l', 'ᵑ': 'u', '\\u13fe': 'm', 'ཙ': 'c', 'Ꮰ': 'w', 'ߜ': 'f', 'Ǿ': 'g', 'ʎ': 'y', 'ধ': 'p', 'ᚿ': 'b', 'ލ': 'v', '\\u0bdd': 'k', 'ᤎ': 'x', '\\u0fcd': 'j', '۩': 'z'}\n",
      "\n",
      "decoded text:\n",
      "\n",
      " ero cniyel ih ane csmha fns tdftwo osdgel kmeoaisho anta oeeyel as niy perpdexihu bw lecilihu anta egerwanihu fto opdehlil jmoa vthcw fthao as be th nmootr fnta o she as ls yw letr fnta t cntryihu cretamre wsmr wsmhuer uird io otil ane gioiasr t diaade gsdcths weo t reumdtr gsdcths otil ane csmha atzeo tvaer ye thl fnta t gsice one nto ansmun one o yw ltmunaer i aedd ane arman fneh i otw one dd be t oihuer t oecshl otdsyshi fe ntge ehutuel th iatdith as uige ner deoosho ioh a one ass wsmhu i ntg\n",
      "9 [' ', 'b', 'c', 'e', 'i', 'j', 'p', 'r', 'x']\n"
     ]
    }
   ],
   "source": [
    "from collections import Counter\n",
    "\n",
    "freqs_corpus = sorted(Counter(list(text)).items(), key= lambda x: -x[1])\n",
    "freqs_corpus = [v[0] for v in freqs_corpus]\n",
    "\n",
    "def decode_with_frequencies(encrypted, freqs_corpus, verbose=False):\n",
    "    freqs_test = sorted(Counter(list(encrypted)).items(), key= lambda x: -x[1])\n",
    "    freqs_test = [v[0] for v in freqs_test]\n",
    "    decode_mapping = dict(zip(freqs_test, freqs_corpus))\n",
    "    output = ''.join([decode_mapping[c] for c in encrypted])\n",
    "    if verbose:\n",
    "        print('\\ndecode mapping:\\n\\n', decode_mapping)\n",
    "        print('\\ndecoded text:\\n\\n', output)\n",
    "    return decode_mapping, output\n",
    "\n",
    "decode_mapping, decoded1 = decode_with_frequencies(encrypted1, freqs_corpus, True)\n",
    "\n",
    "def correctly_decoded_symbols(true_mapping, decode_mapping, verbose=False):\n",
    "    correctly = []\n",
    "    for c in true_mapping.keys():\n",
    "        if c == decode_mapping.get(true_mapping.get(c)):\n",
    "            correctly.append(c)\n",
    "    if verbose:\n",
    "        print(len(correctly), correctly)\n",
    "    return correctly\n",
    "\n",
    "correctly = correctly_decoded_symbols(mapping, decode_mapping, True)"
   ]
  },
  {
   "cell_type": "markdown",
   "metadata": {},
   "source": [
    "Sure it seems difficult to recover original phrase, but maybe 9 symbols is not so bad for such a naive method"
   ]
  },
  {
   "cell_type": "markdown",
   "metadata": {},
   "source": [
    "### Let's check dependence of frequency method \"accuracy\" (number of correctly identified symbols) on the text length"
   ]
  },
  {
   "cell_type": "code",
   "execution_count": 5,
   "metadata": {
    "scrolled": false
   },
   "outputs": [
    {
     "name": "stderr",
     "output_type": "stream",
     "text": [
      "/net/minus/home/shchegolev/anaconda3/lib/python3.8/site-packages/seaborn/_decorators.py:36: FutureWarning: Pass the following variables as keyword args: x, y. From version 0.12, the only valid positional argument will be `data`, and passing other arguments without an explicit keyword will result in an error or misinterpretation.\n",
      "  warnings.warn(\n"
     ]
    },
    {
     "data": {
      "image/png": "[encoded data removed]",
      "text/plain": [
       "<Figure size 432x288 with 1 Axes>"
      ]
     },
     "metadata": {
      "needs_background": "light"
     },
     "output_type": "display_data"
    }
   ],
   "source": [
    "import seaborn as sns\n",
    "\n",
    "def get_accuracy_unigrams(size, corpus, freqs_corpus, n_times):\n",
    "    values = []\n",
    "    for i in range(n_times):\n",
    "        start = np.random.randint(30000, len(corpus) - size - 1)\n",
    "        test = corpus[start:start + size]\n",
    "        mapping, encrypted = gen_randomly_decoded_text(test)\n",
    "        decode_mapping, decoded = decode_with_frequencies(encrypted, freqs_corpus)\n",
    "        correctly = correctly_decoded_symbols(mapping, decode_mapping)\n",
    "        values.append(len(correctly))\n",
    "    return np.array(values).mean()\n",
    "\n",
    "sizes = [100, 300, 500, 1000, 2000, 5000, 10000, 30000, 100000]\n",
    "scplot = sns.scatterplot(sizes, [get_accuracy_unigrams(size, text, freqs_corpus, 10) for size in sizes])\n",
    "scplot.set(xscale='log', xlabel='test text size', ylabel='correctly identified symbols');"
   ]
  },
  {
   "cell_type": "markdown",
   "metadata": {},
   "source": [
    "### Bigramms"
   ]
  },
  {
   "cell_type": "code",
   "execution_count": 6,
   "metadata": {},
   "outputs": [
    {
     "name": "stdout",
     "output_type": "stream",
     "text": [
      "\n",
      "decode mapping:\n",
      "\n",
      " {'┄': 'e', 'Ѡ': ' ', 'ፊ': 't', 'ᖮ': 'a', 'Ћ': 'h', 'ồ': 'r', '\\u0e60': 'd', 'Ɲ': 's', '്': 'n', 'ߜ': 'w', 'ଲ': 'i', 'Ų': 'o', '\\u13fe': 'g', 'ཙ': 'b', 'ᵑ': 'y', 'Ꮰ': 'f', 'Ǿ': 'l', 'ቯ': 'm', 'ʎ': 'v', 'ᚿ': 'c', 'ধ': 'u', '\\u0bdd': 'p', 'ᤎ': 'x', '\\u0fcd': 'k', 'ލ': 'j', '۩': 'z'}\n",
      "\n",
      "decoded text:\n",
      "\n",
      " eda broves oi tre bngit wrn hmwhfa anmles pgeatonia trht aeeves tn rov uedumexoiy cf sebosoiy trht eledftroiy wha aumeisos kgat jhibf whita tn ce hi rgaahd wrht a nie tn sn vf sehd wrht h brhdvoiy bdehtgde fngd fngiyed yodm oa ahos tre loaotnd h mottme lnmbhin fea h deygmhd lnmbhin ahos tre bngit thzea hjted ve his wrht h lnobe are rha trngyr are a vf shgyrted o temm tre tdgtr wrei o ahf are mm ce h aoiyed h aebnis ahmnvnio we rhle eiyhyes hi othmohi tn yole red meaania oai t are tnn fngiy o rhl\n",
      "5 [' ', 'e', 't', 'w', 'x']\n"
     ]
    }
   ],
   "source": [
    "from collections import defaultdict\n",
    "\n",
    "def calc_bigram_freq(text):\n",
    "    bigrams = defaultdict(int)\n",
    "    for i in range(len(text) - 1):\n",
    "        bigram = text[i] + text[i + 1]\n",
    "        bigrams[bigram] += 1\n",
    "    bigrams = sorted(bigrams.items(), key= lambda x: -x[1])\n",
    "    return [v[0] for v in bigrams]\n",
    "\n",
    "freqs_bi_corpus = calc_bigram_freq(text)\n",
    "\n",
    "def decode_with_bigram_frequencies(encrypted, freqs_corpus, verbose=False):\n",
    "    freqs_test = calc_bigram_freq(encrypted)\n",
    "    decode_mapping = dict()\n",
    "    for bt in freqs_test:\n",
    "        if decode_mapping.get(bt[0]) is not None and decode_mapping.get(bt[1]) is not None:\n",
    "            continue\n",
    "        elif decode_mapping.get(bt[0]) is not None:\n",
    "            for bc in [v for v in freqs_corpus if v[0] == decode_mapping.get(bt[0])]:\n",
    "                if bc[1] not in decode_mapping.values():\n",
    "                    decode_mapping[bt[1]] = bc[1]\n",
    "                    break\n",
    "        elif decode_mapping.get(bt[1]) is not None:\n",
    "            for bc in [v for v in freqs_corpus if v[1] == decode_mapping.get(bt[1])]:\n",
    "                if bc[0] not in decode_mapping.values():\n",
    "                    decode_mapping[bt[0]] = bc[0]\n",
    "                    break\n",
    "        else:\n",
    "            for bc in freqs_corpus:\n",
    "                if bc[0] not in decode_mapping.values() and \\\n",
    "                    bc[1] not in decode_mapping.values():\n",
    "                    decode_mapping[bt[0]] = bc[0]\n",
    "                    decode_mapping[bt[1]] = bc[1]\n",
    "                break\n",
    "    alphabet_corp = np.unique(np.array(freqs_corpus))\n",
    "    alphabet_enc = np.unique(np.array(list(encrypted)))\n",
    "    not_used_enc = [c for c in alphabet_enc if c not in decode_mapping.keys()]\n",
    "    not_used_corp = [c for c in alphabet_corp if c not in decode_mapping.values()]\n",
    "    for i in range(len(not_used_enc)):\n",
    "        decode_mapping[not_used_enc[i]] = not_used_corp[i]\n",
    "    output = ''.join([decode_mapping.get(c, 'X') for c in encrypted])\n",
    "    if verbose:\n",
    "        print('\\ndecode mapping:\\n\\n', decode_mapping)\n",
    "        print('\\ndecoded text:\\n\\n', output)\n",
    "    return decode_mapping, output\n",
    "\n",
    "decode_mapping, decoded1 = decode_with_bigram_frequencies(encrypted1, freqs_bi_corpus, True)\n",
    "correctly = correctly_decoded_symbols(mapping, decode_mapping, True)"
   ]
  },
  {
   "cell_type": "code",
   "execution_count": 7,
   "metadata": {},
   "outputs": [
    {
     "name": "stderr",
     "output_type": "stream",
     "text": [
      "/net/minus/home/shchegolev/anaconda3/lib/python3.8/site-packages/seaborn/_decorators.py:36: FutureWarning: Pass the following variables as keyword args: x, y. From version 0.12, the only valid positional argument will be `data`, and passing other arguments without an explicit keyword will result in an error or misinterpretation.\n",
      "  warnings.warn(\n"
     ]
    },
    {
     "data": {
      "image/png": "[encoded data removed]",
      "text/plain": [
       "<Figure size 432x288 with 1 Axes>"
      ]
     },
     "metadata": {
      "needs_background": "light"
     },
     "output_type": "display_data"
    }
   ],
   "source": [
    "def get_accuracy_bigrams(size, corpus, freqs_corpus, n_times):\n",
    "    values = []\n",
    "    for i in range(n_times):\n",
    "        start = np.random.randint(30000, len(corpus) - size - 1)\n",
    "        test = corpus[start:start + size]\n",
    "        mapping, encrypted = gen_randomly_decoded_text(test)\n",
    "        decode_mapping, decoded = decode_with_bigram_frequencies(encrypted, freqs_corpus)\n",
    "        correctly = correctly_decoded_symbols(mapping, decode_mapping)\n",
    "        values.append(len(correctly))\n",
    "    return np.array(values).mean()\n",
    "\n",
    "sizes = [100, 300, 500, 1000, 2000, 5000, 10000, 30000, 100000]\n",
    "\n",
    "scplot = sns.scatterplot(sizes, [get_accuracy_bigrams(size, text, freqs_bi_corpus, 10) for size in sizes])\n",
    "scplot.set(xscale='log', xlabel='test text size', ylabel='correctly identified symbols');"
   ]
  },
  {
   "cell_type": "markdown",
   "metadata": {},
   "source": [
    "So we see that bigrams work a little bit better than single letters but we can't hope decode small text using such way"
   ]
  },
  {
   "cell_type": "markdown",
   "metadata": {},
   "source": [
    "### MCMC, Metropolis-Hastings"
   ]
  },
  {
   "cell_type": "markdown",
   "metadata": {},
   "source": [
    "let us try to use MCMC sampling using Metropolis alpgorithm based on bigrams"
   ]
  },
  {
   "cell_type": "code",
   "execution_count": 8,
   "metadata": {},
   "outputs": [],
   "source": [
    "# precalculation of bigram probabilities\n",
    "def calc_bigram_probs(corpus):\n",
    "    alphabet = np.unique(np.array(list(corpus)))\n",
    "    freqs = Counter(list(corpus))\n",
    "    bigrams = defaultdict(int)\n",
    "    for i in range(len(corpus) - 1):\n",
    "        bigram = corpus[i] + corpus[i + 1]\n",
    "        bigrams[bigram] += 1\n",
    "    for cl in alphabet: # Laplas smoothing\n",
    "        for cr in alphabet:\n",
    "            bigrams[cl + cr] += 1\n",
    "    for bi in bigrams.keys():\n",
    "        cl = bi[0]\n",
    "        bigrams[bi] /= freqs[cl] + len(alphabet)\n",
    "    return bigrams\n",
    "\n",
    "bigram_freqs = calc_bigram_probs(text)"
   ]
  },
  {
   "cell_type": "code",
   "execution_count": 9,
   "metadata": {},
   "outputs": [],
   "source": [
    "def get_decoded_text(encrypted, decode_mapping):\n",
    "    return ''.join([decode_mapping[c] for c in encrypted])\n",
    "\n",
    "\n",
    "def calc_mapping_likelyhood(text, mapping, freqs):\n",
    "    decoded = get_decoded_text(text, mapping)\n",
    "    likelyhood = 0\n",
    "    for i in range(len(decoded) - 1):\n",
    "        bigram = decoded[i] + decoded[i + 1]\n",
    "        likelyhood += np.log(freqs[bigram])\n",
    "    return likelyhood\n",
    "\n",
    "def get_new_random_mapping(mapping):\n",
    "    new_mapping = mapping.copy()\n",
    "    a, b = np.random.choice(list(new_mapping.keys()), 2, replace=False)\n",
    "    tmp = new_mapping[a]\n",
    "    new_mapping[a] = new_mapping[b]\n",
    "    new_mapping[b] = tmp\n",
    "    return new_mapping\n",
    "\n",
    "def metropolis_step(text, mapping, freqs, current_score, scaling):\n",
    "    new_mapping = get_new_random_mapping(mapping)\n",
    "    new_score = calc_mapping_likelyhood(text, new_mapping, freqs)\n",
    "    if new_score > current_score:\n",
    "        return new_mapping, new_score\n",
    "    else:\n",
    "        change = np.random.rand()\n",
    "        if change < scaling * np.exp(new_score - current_score):\n",
    "            return new_mapping, new_score\n",
    "        else:\n",
    "            return mapping, current_score\n",
    "\n"
   ]
  },
  {
   "cell_type": "code",
   "execution_count": 10,
   "metadata": {},
   "outputs": [
    {
     "name": "stderr",
     "output_type": "stream",
     "text": [
      "/net/minus/home/shchegolev/anaconda3/lib/python3.8/site-packages/seaborn/_decorators.py:36: FutureWarning: Pass the following variables as keyword args: x, y. From version 0.12, the only valid positional argument will be `data`, and passing other arguments without an explicit keyword will result in an error or misinterpretation.\n",
      "  warnings.warn(\n",
      "/net/minus/home/shchegolev/anaconda3/lib/python3.8/site-packages/seaborn/_decorators.py:36: FutureWarning: Pass the following variables as keyword args: x, y. From version 0.12, the only valid positional argument will be `data`, and passing other arguments without an explicit keyword will result in an error or misinterpretation.\n",
      "  warnings.warn(\n"
     ]
    },
    {
     "name": "stdout",
     "output_type": "stream",
     "text": [
      "ers chimed in the count who always solved kuestions that seemed to him perplexing by deciding that everything was splendid just fancy wants to be an hussar what s one to do my dear what a charming creature your younger girl is said the visitor a little volcano yes a regular volcano said the count tazes after me and what a voice she has though she s my daughter i tell the truth when i say she ll be a singer a second salomoni we have engaged an italian to give her lessons isn t she too young i hav\n",
      "ers chimed in the count who always solved questions that seemed to him perplexing by deciding that everything was splendid just fancy wants to be an hussar what s one to do my dear what a charming creature your younger girl is said the visitor a little volcano yes a regular volcano said the count takes after me and what a voice she has though she s my daughter i tell the truth when i say she ll be a singer a second salomoni we have engaged an italian to give her lessons isn t she too young i hav\n"
     ]
    },
    {
     "data": {
      "image/png": "[encoded data removed]",
      "text/plain": [
       "<Figure size 720x432 with 1 Axes>"
      ]
     },
     "metadata": {
      "needs_background": "light"
     },
     "output_type": "display_data"
    },
    {
     "data": {
      "image/png": "[encoded data removed]",
      "text/plain": [
       "<Figure size 720x432 with 1 Axes>"
      ]
     },
     "metadata": {
      "needs_background": "light"
     },
     "output_type": "display_data"
    }
   ],
   "source": [
    "import matplotlib.pyplot as plt\n",
    "\n",
    "scaling = 0.5\n",
    "first_score =  calc_mapping_likelyhood(encrypted1, decode_mapping, bigram_freqs)\n",
    "new_mapping, score = metropolis_step(encrypted1, decode_mapping, bigram_freqs, first_score, scaling)\n",
    "found = [len(correctly_decoded_symbols(mapping, new_mapping))]\n",
    "scores = [score]\n",
    "max_iter = 20000\n",
    "for i in range(max_iter):\n",
    "    new_mapping, score = metropolis_step(encrypted1, new_mapping, bigram_freqs, score, scaling)\n",
    "    found.append(len(correctly_decoded_symbols(mapping, new_mapping)))\n",
    "    scores.append(score)\n",
    "\n",
    "plt.figure(figsize=(10, 6))\n",
    "plot = sns.lineplot(range(max_iter + 1), found)\n",
    "plot.set(xlabel='iter number', ylabel='correctly identified symbols');\n",
    "\n",
    "plt.figure(figsize=(10, 6))\n",
    "plot = sns.lineplot(range(max_iter + 1), scores, color='r')\n",
    "plot.set(xlabel='iter number', ylabel='log(likelyhood)');\n",
    "\n",
    "print(get_decoded_text(encrypted1, new_mapping), test1, sep='\\n')"
   ]
  },
  {
   "cell_type": "markdown",
   "metadata": {},
   "source": [
    "Lets try to decode test sample from task"
   ]
  },
  {
   "cell_type": "code",
   "execution_count": 11,
   "metadata": {},
   "outputs": [
    {
     "name": "stdout",
     "output_type": "stream",
     "text": [
      "230 27 28\n"
     ]
    }
   ],
   "source": [
    "encrypted = 'დჳჵჂႨშႼႨშჂხჂჲდႨსႹႭჾႣჵისႼჰႨჂჵჂႨႲႹႧჲჂႨსႹႭჾႣჵისႼჰႨჲდႩჳჲႨჇႨႠჲႹქႹႨჳႹႹჱჶდსჂႽႨႩႹჲႹႭႼჰႨჵდქႩႹႨႲႭႹႧჂჲႣჲიႨჳႩႹႭდდႨშჳდქႹႨშႼႨშჳდႨჳხდჵႣჵჂႨႲႭႣშჂჵისႹႨჂႨႲႹჵჇႧჂჲდႨჾႣႩჳჂჾႣჵისႼჰႨჱႣჵჵႨეႣႨႲႹჳჵდხსდდႨႧდჲშდႭჲႹდႨეႣხႣსჂდႨႩჇႭჳႣႨႾႹჲႽႨႩႹსდႧსႹႨႽႨსჂႧდქႹႨსდႨႹჱდჶႣნ'\n",
    "\n",
    "print(len(encrypted), len(alphabet), len(np.unique(np.array(list(encrypted)))))"
   ]
  },
  {
   "cell_type": "markdown",
   "metadata": {},
   "source": [
    "I see that we have not enough symbols in English alphabet for decoding the message, but let us try anyway (I remove last symbol from the message)"
   ]
  },
  {
   "cell_type": "code",
   "execution_count": 12,
   "metadata": {},
   "outputs": [
    {
     "name": "stderr",
     "output_type": "stream",
     "text": [
      "/net/minus/home/shchegolev/anaconda3/lib/python3.8/site-packages/seaborn/_decorators.py:36: FutureWarning: Pass the following variables as keyword args: x, y. From version 0.12, the only valid positional argument will be `data`, and passing other arguments without an explicit keyword will result in an error or misinterpretation.\n",
      "  warnings.warn(\n"
     ]
    },
    {
     "name": "stdout",
     "output_type": "stream",
     "text": [
      "elfa bu bakase hindofthug afa wicsa hindofthug sepls r qsixi liimzehay pisinug fexpi wnicasost lpinee blexi bu ble lkefofa wnobafthi a wifrcase dopladofthug moff jo wilfekhee cesbensie jokohae prnlo visy pihechi y hacexi he imezo\n"
     ]
    },
    {
     "data": {
      "image/png": "[encoded data removed]",
      "text/plain": [
       "<Figure size 720x432 with 1 Axes>"
      ]
     },
     "metadata": {
      "needs_background": "light"
     },
     "output_type": "display_data"
    }
   ],
   "source": [
    "decode_mapping, decoded = decode_with_bigram_frequencies(encrypted[:-1], freqs_bi_corpus)\n",
    "scaling = 1.5\n",
    "first_score =  calc_mapping_likelyhood(encrypted[:-1], decode_mapping, bigram_freqs)\n",
    "new_mapping, score = metropolis_step(encrypted[:-1], decode_mapping, bigram_freqs, first_score, scaling)\n",
    "scores = [score]\n",
    "max_iter = 20000\n",
    "for i in range(max_iter):\n",
    "    new_mapping, score = metropolis_step(encrypted[:-1], new_mapping, bigram_freqs, score, scaling)\n",
    "    scores.append(score)\n",
    "    \n",
    "plt.figure(figsize=(10, 6))\n",
    "plot = sns.lineplot(range(max_iter + 1), scores, color='r')\n",
    "plot.set(xlabel='iter number', ylabel='log(likelyhood)');\n",
    "\n",
    "print(get_decoded_text(encrypted[:-1], new_mapping))"
   ]
  },
  {
   "cell_type": "markdown",
   "metadata": {},
   "source": [
    "seems that we don't succeed with English, попробуем русский"
   ]
  },
  {
   "cell_type": "code",
   "execution_count": 25,
   "metadata": {},
   "outputs": [
    {
     "name": "stdout",
     "output_type": "stream",
     "text": [
      "[' ' 'а' 'б' 'в' 'г' 'д' 'е' 'ж' 'з' 'и' 'й' 'к' 'л' 'м' 'н' 'о' 'п' 'р'\n",
      " 'с' 'т' 'у' 'ф' 'х' 'ц' 'ч' 'ш' 'щ' 'ъ' 'ы' 'ь' 'э' 'ю' 'я' 'ё'] 34\n"
     ]
    }
   ],
   "source": [
    "text = get_text_corpus('texts/AnnaKarenina.txt', '[а-ё]+') + ' ' + get_text_corpus('texts/WarAndPeace.txt', '[а-ё]+')\n",
    "alphabet = np.unique(np.array(list(text)))\n",
    "print(alphabet, len(alphabet))"
   ]
  },
  {
   "cell_type": "code",
   "execution_count": 34,
   "metadata": {},
   "outputs": [
    {
     "name": "stderr",
     "output_type": "stream",
     "text": [
      "/net/minus/home/shchegolev/anaconda3/lib/python3.8/site-packages/seaborn/_decorators.py:36: FutureWarning: Pass the following variables as keyword args: x, y. From version 0.12, the only valid positional argument will be `data`, and passing other arguments without an explicit keyword will result in an error or misinterpretation.\n",
      "  warnings.warn(\n"
     ]
    },
    {
     "name": "stdout",
     "output_type": "stream",
     "text": [
      "если вы вимите норжальных или почти норжальных текст у этого соодшения которых легко прочитать скорее всего вы все смелали правильно и получите жаксижальных далл за послемнее четвертое замание курса ботя конечно я ничего не одешаю\n"
     ]
    },
    {
     "data": {
      "image/png": "[encoded data removed]",
      "text/plain": [
       "<Figure size 720x432 with 1 Axes>"
      ]
     },
     "metadata": {
      "needs_background": "light"
     },
     "output_type": "display_data"
    }
   ],
   "source": [
    "freqs_bi_corpus = calc_bigram_freq(text)\n",
    "bigram_freqs = calc_bigram_probs(text)\n",
    "\n",
    "decode_mapping, decoded = decode_with_bigram_frequencies(encrypted, freqs_bi_corpus)\n",
    "scaling = 1.\n",
    "first_score =  calc_mapping_likelyhood(encrypted, decode_mapping, bigram_freqs)\n",
    "new_mapping, score = metropolis_step(encrypted, decode_mapping, bigram_freqs, first_score, scaling)\n",
    "scores = [score]\n",
    "max_iter = 10000\n",
    "for i in range(max_iter):\n",
    "    new_mapping, score = metropolis_step(encrypted[:-1], new_mapping, bigram_freqs, score, scaling)\n",
    "    scores.append(score)\n",
    "    \n",
    "plt.figure(figsize=(10, 6))\n",
    "plot = sns.lineplot(range(max_iter + 1), scores, color='r')\n",
    "plot.set(xlabel='iter number', ylabel='log(likelyhood)');\n",
    "\n",
    "print(get_decoded_text(encrypted, new_mapping))"
   ]
  },
  {
   "cell_type": "code",
   "execution_count": 36,
   "metadata": {},
   "outputs": [
    {
     "name": "stderr",
     "output_type": "stream",
     "text": [
      "/net/minus/home/shchegolev/anaconda3/lib/python3.8/site-packages/seaborn/_decorators.py:36: FutureWarning: Pass the following variables as keyword args: x, y. From version 0.12, the only valid positional argument will be `data`, and passing other arguments without an explicit keyword will result in an error or misinterpretation.\n",
      "  warnings.warn(\n"
     ]
    },
    {
     "name": "stdout",
     "output_type": "stream",
     "text": [
      "если вы вимите норшальных или почти норшальных текст у этого соождения которых легко прочитать скорее всего вы все смелали правильно и получите шаксишальных жалл за послемнее четвертое замание курса ботя конечно я ничего не ожедаю\n"
     ]
    },
    {
     "data": {
      "image/png": "[encoded data removed]",
      "text/plain": [
       "<Figure size 720x432 with 1 Axes>"
      ]
     },
     "metadata": {
      "needs_background": "light"
     },
     "output_type": "display_data"
    }
   ],
   "source": [
    "freqs_bi_corpus = calc_bigram_freq(text)\n",
    "bigram_freqs = calc_bigram_probs(text)\n",
    "\n",
    "decode_mapping, decoded = decode_with_bigram_frequencies(encrypted, freqs_bi_corpus)\n",
    "scaling = 0.3\n",
    "first_score =  calc_mapping_likelyhood(encrypted, decode_mapping, bigram_freqs)\n",
    "new_mapping, score = metropolis_step(encrypted, decode_mapping, bigram_freqs, first_score, scaling)\n",
    "scores = [score]\n",
    "max_iter = 20000\n",
    "for i in range(max_iter):\n",
    "    new_mapping, score = metropolis_step(encrypted[:-1], new_mapping, bigram_freqs, score, scaling)\n",
    "    scores.append(score)\n",
    "    \n",
    "plt.figure(figsize=(10, 6))\n",
    "plot = sns.lineplot(range(max_iter + 1), scores, color='r')\n",
    "plot.set(xlabel='iter number', ylabel='log(likelyhood)');\n",
    "\n",
    "print(get_decoded_text(encrypted, new_mapping))"
   ]
  },
  {
   "cell_type": "markdown",
   "metadata": {},
   "source": [
    "Примерно то же самое получилось...\n",
    "Ну вот, алгоритмом Метрополиса-Гастингса действительно удалось почти точно расшифровать сообщение, которое звучит здорово"
   ]
  },
  {
   "cell_type": "markdown",
   "metadata": {},
   "source": [
    "Попробуем посмотреть насколько в среднем будет эффективен метод по сравнению с предыдущими рассмотренными вариантами. Для этого вернемся снова к английскому тексту"
   ]
  },
  {
   "cell_type": "code",
   "execution_count": 23,
   "metadata": {},
   "outputs": [
    {
     "name": "stdout",
     "output_type": "stream",
     "text": [
      "100 5\n",
      "300 18\n",
      "500 23\n",
      "1000 23\n",
      "2000 27\n",
      "5000 27\n"
     ]
    },
    {
     "name": "stderr",
     "output_type": "stream",
     "text": [
      "/net/minus/home/shchegolev/anaconda3/lib/python3.8/site-packages/seaborn/_decorators.py:36: FutureWarning: Pass the following variables as keyword args: x, y. From version 0.12, the only valid positional argument will be `data`, and passing other arguments without an explicit keyword will result in an error or misinterpretation.\n",
      "  warnings.warn(\n"
     ]
    },
    {
     "data": {
      "image/png": "[encoded data removed]",
      "text/plain": [
       "<Figure size 432x288 with 1 Axes>"
      ]
     },
     "metadata": {
      "needs_background": "light"
     },
     "output_type": "display_data"
    }
   ],
   "source": [
    "text = get_text_corpus('texts/WarAndPeaceEng.txt', '[a-z]+')\n",
    "freqs_bi_corpus = calc_bigram_freq(text)\n",
    "bigram_freqs = calc_bigram_probs(text)\n",
    "\n",
    "def decode_with_metropolis_bigrams(encrypted, freqs_bi_corpus, bigram_freqs, scaling, max_iter):\n",
    "    decode_mapping, decoded = decode_with_bigram_frequencies(encrypted, freqs_bi_corpus)\n",
    "    first_score =  calc_mapping_likelyhood(encrypted, decode_mapping, bigram_freqs)\n",
    "    new_mapping, score = metropolis_step(encrypted, decode_mapping, bigram_freqs, first_score, scaling)\n",
    "    for i in range(max_iter):\n",
    "        new_mapping, score = metropolis_step(encrypted[:-1], new_mapping, bigram_freqs, score, scaling)\n",
    "    return new_mapping, get_decoded_text(encrypted, new_mapping)\n",
    "\n",
    "def get_accuracy_metropolis_bigrams(size, corpus, freqs_corpus, bigram_freqs, n_times):\n",
    "    values = []\n",
    "    for i in range(n_times):\n",
    "        start = np.random.randint(30000, len(corpus) - size - 1)\n",
    "        test = corpus[start:start + size]\n",
    "        mapping, encrypted = gen_randomly_decoded_text(test)\n",
    "        decode_mapping, decoded = decode_with_metropolis_bigrams(encrypted,\n",
    "                                                                 freqs_bi_corpus,\n",
    "                                                                 bigram_freqs,\n",
    "                                                                 1.,\n",
    "                                                                 3000)\n",
    "        correctly = correctly_decoded_symbols(mapping, decode_mapping)\n",
    "        values.append(len(correctly))\n",
    "    return np.array(values).max()\n",
    "\n",
    "sizes = [100, 300, 500, 1000, 2000, 5000]\n",
    "accuraces = []\n",
    "for size in sizes:\n",
    "    accuracy = get_accuracy_metropolis_bigrams(size, text, freqs_bi_corpus, bigram_freqs,3)\n",
    "    print(size, round(accuracy, 1))\n",
    "    accuraces.append(accuracy)\n",
    "\n",
    "scplot = sns.scatterplot(sizes, accuraces)\n",
    "scplot.set(xscale='log', xlabel='test text size', ylabel='correctly identified symbols');"
   ]
  },
  {
   "cell_type": "markdown",
   "metadata": {},
   "source": [
    "Довольно долго работает, поэтому число итераций установлено небольшое. Но даже учитывая это, и то что scaling одинаковый для всех случаев, видно что алгоритм даёт результаты существенно лучшие чем просто частотный метод на буквах и биграммах"
   ]
  },
  {
   "cell_type": "markdown",
   "metadata": {},
   "source": [
    "### Бонус 1, попробуем триграммы"
   ]
  },
  {
   "cell_type": "code",
   "execution_count": 37,
   "metadata": {},
   "outputs": [],
   "source": [
    "# precalculation of bigram probabilities\n",
    "def calc_trigram_probs(corpus):\n",
    "    bigrams = defaultdict(int)\n",
    "    trigrams = defaultdict(int)\n",
    "    for i in range(len(corpus) - 2):\n",
    "        bigram = corpus[i:i+2]\n",
    "        trigram = corpus[i:i+3]\n",
    "        bigrams[bigram] += 1\n",
    "        trigrams[trigram] += 1\n",
    "    bigram = corpus[len(corpus) - 2:len(corpus)]\n",
    "    bigrams[bigram] += 1\n",
    "    alphabet = np.unique(np.array(list(corpus)))\n",
    "    for c1 in alphabet:\n",
    "        for c2 in alphabet:\n",
    "            for c3 in alphabet:\n",
    "                trigrams[c1 + c2 + c3] += 1\n",
    "                trigrams[c1 + c2 + c3] /= bigrams[c1 + c2] + len(alphabet) * len(alphabet)\n",
    "    return trigrams\n",
    "\n",
    "trigram_freqs = calc_trigram_probs(text)"
   ]
  },
  {
   "cell_type": "code",
   "execution_count": 38,
   "metadata": {},
   "outputs": [],
   "source": [
    "def calc_mapping_likelyhood(text, mapping, freqs):\n",
    "    decoded = get_decoded_text(text, mapping)\n",
    "    likelyhood = 0\n",
    "    for i in range(len(decoded) - 2):\n",
    "        trigram = decoded[i:i+3]\n",
    "        likelyhood += np.log(freqs[trigram])\n",
    "    return likelyhood\n",
    "\n",
    "def metropolis_step(text, mapping, freqs, current_score, scaling):\n",
    "    new_mapping = get_new_random_mapping(mapping)\n",
    "    new_score = calc_mapping_likelyhood(text, new_mapping, freqs)\n",
    "    if new_score > current_score:\n",
    "        return new_mapping, new_score\n",
    "    else:\n",
    "        change = np.random.rand()\n",
    "        if change < scaling * np.exp(new_score - current_score):\n",
    "            return new_mapping, new_score\n",
    "        else:\n",
    "            return mapping, current_score"
   ]
  },
  {
   "cell_type": "markdown",
   "metadata": {},
   "source": [
    "Попробуем расшифровать заданный текст с помощью триграмм"
   ]
  },
  {
   "cell_type": "code",
   "execution_count": 40,
   "metadata": {},
   "outputs": [
    {
     "name": "stderr",
     "output_type": "stream",
     "text": [
      "/net/minus/home/shchegolev/anaconda3/lib/python3.8/site-packages/seaborn/_decorators.py:36: FutureWarning: Pass the following variables as keyword args: x, y. From version 0.12, the only valid positional argument will be `data`, and passing other arguments without an explicit keyword will result in an error or misinterpretation.\n",
      "  warnings.warn(\n"
     ]
    },
    {
     "name": "stdout",
     "output_type": "stream",
     "text": [
      "если вы видите норжальным или почти норжальным текст у этого сообшения которым легко прочитать скорее всего вы все сделали правильно и получите жаксижальным балл за последнее четвертое задание курса хотя конечно я ничего не обешаю\n"
     ]
    },
    {
     "data": {
      "image/png": "[encoded data removed]",
      "text/plain": [
       "<Figure size 720x432 with 1 Axes>"
      ]
     },
     "metadata": {
      "needs_background": "light"
     },
     "output_type": "display_data"
    }
   ],
   "source": [
    "text = get_text_corpus('texts/AnnaKarenina.txt', '[а-ё]+') + ' ' + get_text_corpus('texts/WarAndPeace.txt', '[а-ё]+')\n",
    "\n",
    "freqs_bi_corpus = calc_bigram_freq(text) # for start mapping we can use mapping obtained with bigram freqs (there are 1-5 letters correctly identified) \n",
    "trigram_freqs = calc_trigram_probs(text)\n",
    "\n",
    "decode_mapping, decoded = decode_with_bigram_frequencies(encrypted, freqs_bi_corpus)\n",
    "scaling = 1.\n",
    "first_score =  calc_mapping_likelyhood(encrypted, decode_mapping, trigram_freqs)\n",
    "new_mapping, score = metropolis_step(encrypted, decode_mapping, trigram_freqs, first_score, scaling)\n",
    "scores = [score]\n",
    "max_iter = 50000\n",
    "for i in range(max_iter):\n",
    "    new_mapping, score = metropolis_step(encrypted[:-1], new_mapping, trigram_freqs, score, scaling)\n",
    "    scores.append(score)\n",
    "    \n",
    "plt.figure(figsize=(10, 6))\n",
    "plot = sns.lineplot(range(max_iter + 1), scores, color='r')\n",
    "plot.set(xlabel='iter number', ylabel='log(likelyhood)');\n",
    "\n",
    "print(get_decoded_text(encrypted, new_mapping))"
   ]
  },
  {
   "cell_type": "markdown",
   "metadata": {},
   "source": [
    "Почти идеально, три буквы интерпретированы неверно. На биграммах сколько я не пробовал, ни разу не получил слово обещаю (обычно расшифровка ближе к слову ожидаю), а тут вполне себе, только ш вместо щ "
   ]
  },
  {
   "cell_type": "markdown",
   "metadata": {},
   "source": [
    "Теперь посмотрим на метрики"
   ]
  },
  {
   "cell_type": "code",
   "execution_count": 42,
   "metadata": {},
   "outputs": [
    {
     "name": "stdout",
     "output_type": "stream",
     "text": [
      "100 15\n",
      "300 24\n",
      "500 25\n",
      "1000 24\n",
      "2000 26\n"
     ]
    },
    {
     "name": "stderr",
     "output_type": "stream",
     "text": [
      "/net/minus/home/shchegolev/anaconda3/lib/python3.8/site-packages/seaborn/_decorators.py:36: FutureWarning: Pass the following variables as keyword args: x, y. From version 0.12, the only valid positional argument will be `data`, and passing other arguments without an explicit keyword will result in an error or misinterpretation.\n",
      "  warnings.warn(\n"
     ]
    },
    {
     "data": {
      "image/png": "[encoded data removed]",
      "text/plain": [
       "<Figure size 432x288 with 1 Axes>"
      ]
     },
     "metadata": {
      "needs_background": "light"
     },
     "output_type": "display_data"
    }
   ],
   "source": [
    "text = get_text_corpus('texts/WarAndPeaceEng.txt', '[a-z]+')\n",
    "freqs_bi_corpus = calc_bigram_freq(text)\n",
    "trigram_freqs = calc_trigram_probs(text)\n",
    "\n",
    "def decode_with_metropolis_trigrams(encrypted, freqs_bi_corpus, trigram_freqs, scaling, max_iter):\n",
    "    decode_mapping, decoded = decode_with_bigram_frequencies(encrypted, freqs_bi_corpus)\n",
    "    first_score =  calc_mapping_likelyhood(encrypted, decode_mapping, trigram_freqs)\n",
    "    new_mapping, score = metropolis_step(encrypted, decode_mapping, trigram_freqs, first_score, scaling)\n",
    "    for i in range(max_iter):\n",
    "        new_mapping, score = metropolis_step(encrypted[:-1], new_mapping, trigram_freqs, score, scaling)\n",
    "    return new_mapping, get_decoded_text(encrypted, new_mapping)\n",
    "\n",
    "def get_accuracy_metropolis_bigrams(size, corpus, freqs_corpus, trigram_freqs, n_times):\n",
    "    values = []\n",
    "    for i in range(n_times):\n",
    "        start = np.random.randint(30000, len(corpus) - size - 1)\n",
    "        test = corpus[start:start + size]\n",
    "        mapping, encrypted = gen_randomly_decoded_text(test)\n",
    "        decode_mapping, decoded = decode_with_metropolis_bigrams(encrypted,\n",
    "                                                                 freqs_bi_corpus,\n",
    "                                                                 trigram_freqs,\n",
    "                                                                 1.,\n",
    "                                                                 10000)\n",
    "        correctly = correctly_decoded_symbols(mapping, decode_mapping)\n",
    "        values.append(len(correctly))\n",
    "    return np.array(values).max()\n",
    "\n",
    "sizes = [100, 300, 500, 1000, 2000]\n",
    "accuraces = []\n",
    "for size in sizes:\n",
    "    accuracy = get_accuracy_metropolis_bigrams(size, text, freqs_bi_corpus, trigram_freqs, 3)\n",
    "    print(size, round(accuracy, 1))\n",
    "    accuraces.append(accuracy)\n",
    "\n",
    "scplot = sns.scatterplot(sizes, accuraces)\n",
    "scplot.set(xscale='log', xlabel='test text size', ylabel='correctly identified symbols');"
   ]
  },
  {
   "cell_type": "markdown",
   "metadata": {},
   "source": [
    "Кажется, что с триграммами стало ещё лучше (на маленьких длинах текста уже существенный процент угаданных букв)"
   ]
  }
 ],
 "metadata": {
  "kernelspec": {
   "display_name": "Python 3",
   "language": "python",
   "name": "python3"
  },
  "language_info": {
   "codemirror_mode": {
    "name": "ipython",
    "version": 3
   },
   "file_extension": ".py",
   "mimetype": "text/x-python",
   "name": "python",
   "nbconvert_exporter": "python",
   "pygments_lexer": "ipython3",
   "version": "3.8.5"
  }
 },
 "nbformat": 4,
 "nbformat_minor": 4
}
